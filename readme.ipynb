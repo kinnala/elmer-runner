{
 "cells": [
  {
   "cell_type": "markdown",
   "metadata": {
    "slideshow": {
     "slide_type": "slide"
    }
   },
   "source": [
    "# run_elmer\n",
    "\n",
    "Run Elmer FEM from Python.\n",
    "\n",
    "## Installation\n",
    "\n",
    "```\n",
    "pip install run-elmer\n",
    "```\n",
    "\n",
    "## Usage"
   ]
  },
  {
   "cell_type": "code",
   "execution_count": 1,
   "metadata": {
    "slideshow": {
     "slide_type": "slide"
    }
   },
   "outputs": [
    {
     "data": {
      "image/svg+xml": [
       "<svg xmlns=\"http://www.w3.org/2000/svg\" version=\"1.1\" width=\"300\" height=\"300.0\"><line x1=\"1.0\" y1=\"299.0\" x2=\"1.0\" y2=\"150.0\" style=\"stroke:#7856FA;stroke-width:1\"/><line x1=\"1.0\" y1=\"299.0\" x2=\"150.0\" y2=\"299.0\" style=\"stroke:#7856FA;stroke-width:1\"/><line x1=\"1.0\" y1=\"150.0\" x2=\"150.0\" y2=\"299.0\" style=\"stroke:#7856FA;stroke-width:1\"/><line x1=\"1.0\" y1=\"1.0\" x2=\"150.0\" y2=\"150.0\" style=\"stroke:#7856FA;stroke-width:1\"/><line x1=\"1.0\" y1=\"1.0\" x2=\"150.0\" y2=\"1.0\" style=\"stroke:#7856FA;stroke-width:1\"/><line x1=\"150.0\" y1=\"150.0\" x2=\"150.0\" y2=\"1.0\" style=\"stroke:#7856FA;stroke-width:1\"/><line x1=\"1.0\" y1=\"1.0\" x2=\"1.0\" y2=\"150.0\" style=\"stroke:#7856FA;stroke-width:1\"/><line x1=\"1.0\" y1=\"1.0\" x2=\"150.0\" y2=\"150.0\" style=\"stroke:#7856FA;stroke-width:1\"/><line x1=\"1.0\" y1=\"150.0\" x2=\"150.0\" y2=\"150.0\" style=\"stroke:#7856FA;stroke-width:1\"/><line x1=\"299.0\" y1=\"299.0\" x2=\"150.0\" y2=\"150.0\" style=\"stroke:#7856FA;stroke-width:1\"/><line x1=\"299.0\" y1=\"299.0\" x2=\"299.0\" y2=\"150.0\" style=\"stroke:#7856FA;stroke-width:1\"/><line x1=\"150.0\" y1=\"150.0\" x2=\"299.0\" y2=\"150.0\" style=\"stroke:#7856FA;stroke-width:1\"/><line x1=\"299.0\" y1=\"299.0\" x2=\"150.0\" y2=\"299.0\" style=\"stroke:#7856FA;stroke-width:1\"/><line x1=\"299.0\" y1=\"299.0\" x2=\"150.0\" y2=\"150.0\" style=\"stroke:#7856FA;stroke-width:1\"/><line x1=\"150.0\" y1=\"299.0\" x2=\"150.0\" y2=\"150.0\" style=\"stroke:#7856FA;stroke-width:1\"/><line x1=\"299.0\" y1=\"1.0\" x2=\"150.0\" y2=\"1.0\" style=\"stroke:#7856FA;stroke-width:1\"/><line x1=\"299.0\" y1=\"1.0\" x2=\"299.0\" y2=\"150.0\" style=\"stroke:#7856FA;stroke-width:1\"/><line x1=\"150.0\" y1=\"1.0\" x2=\"299.0\" y2=\"150.0\" style=\"stroke:#7856FA;stroke-width:1\"/><line x1=\"1.0\" y1=\"150.0\" x2=\"150.0\" y2=\"299.0\" style=\"stroke:#7856FA;stroke-width:1\"/><line x1=\"1.0\" y1=\"150.0\" x2=\"150.0\" y2=\"150.0\" style=\"stroke:#7856FA;stroke-width:1\"/><line x1=\"150.0\" y1=\"299.0\" x2=\"150.0\" y2=\"150.0\" style=\"stroke:#7856FA;stroke-width:1\"/><line x1=\"150.0\" y1=\"150.0\" x2=\"150.0\" y2=\"1.0\" style=\"stroke:#7856FA;stroke-width:1\"/><line x1=\"150.0\" y1=\"150.0\" x2=\"299.0\" y2=\"150.0\" style=\"stroke:#7856FA;stroke-width:1\"/><line x1=\"150.0\" y1=\"1.0\" x2=\"299.0\" y2=\"150.0\" style=\"stroke:#7856FA;stroke-width:1\"/></svg>"
      ],
      "text/plain": [
       "Triangular mesh with 9 vertices and 8 elements."
      ]
     },
     "execution_count": 1,
     "metadata": {},
     "output_type": "execute_result"
    }
   ],
   "source": [
    "import run_elmer as elmer\n",
    "\n",
    "m = elmer.mesh(\n",
    "    [[0, 0],\n",
    "     [0, 1],\n",
    "     [1, 0],\n",
    "     [1, 1]],\n",
    "    [[0, 1, 2],\n",
    "     [1, 2, 3]]\n",
    ").refined().with_boundaries({\n",
    "    'left': lambda x: x[0] == 0,\n",
    "    'right': lambda x: x[0] == 1,\n",
    "})\n",
    "\n",
    "m  # use in Elmer?"
   ]
  },
  {
   "cell_type": "code",
   "execution_count": 2,
   "metadata": {
    "scrolled": true,
    "slideshow": {
     "slide_type": "slide"
    }
   },
   "outputs": [
    {
     "name": "stdout",
     "output_type": "stream",
     "text": [
      "Pulling from kinnala/elmer\n",
      "Digest: sha256:2a19d445a8fa0d455ce2aa99355661fb7f80df497f82e0a161580efdfbafc7ff\n",
      "Status: Image is up to date for ghcr.io/kinnala/elmer:devel-ba15974\n",
      "cat mesh.header\n",
      "9 8 8\n",
      "2\n",
      "303 8\n",
      "202 8\n",
      "\n",
      "cat mesh.nodes\n",
      "1 -1 0.0 0.0 0.0\n",
      "2 -1 0.0 1.0 0.0\n",
      "3 -1 1.0 0.0 0.0\n",
      "4 -1 1.0 1.0 0.0\n",
      "5 -1 0.0 0.5 0.0\n",
      "6 -1 0.5 0.0 0.0\n",
      "7 -1 0.5 0.5 0.0\n",
      "8 -1 0.5 1.0 0.0\n",
      "9 -1 1.0 0.5 0.0\n",
      "\n",
      "cat mesh.elements\n",
      "1 1 303 1 5 6\n",
      "2 1 303 2 7 8\n",
      "3 1 303 2 5 7\n",
      "4 1 303 3 7 9\n",
      "5 1 303 3 6 7\n",
      "6 1 303 4 8 9\n",
      "7 1 303 5 6 7\n",
      "8 1 303 7 8 9\n",
      "\n",
      "cat mesh.boundary\n",
      "1 1 1 0 202 1 5\n",
      "2 -1 1 0 202 1 6\n",
      "3 1 3 0 202 2 5\n",
      "4 -1 2 0 202 2 8\n",
      "5 -1 5 0 202 3 6\n",
      "6 2 4 0 202 3 9\n",
      "7 -1 6 0 202 4 8\n",
      "8 2 6 0 202 4 9\n",
      "\n",
      "ELMER SOLVER (v 9.0) STARTED AT: 2021/08/16 12:00:39\n",
      "ParCommInit:  Initialize #PEs:            1\n",
      "MAIN: \n",
      "MAIN: =============================================================\n",
      "MAIN: ElmerSolver finite element software, Welcome!\n",
      "MAIN: This program is free software licensed under (L)GPL\n",
      "MAIN: Copyright 1st April 1995 - , CSC - IT Center for Science Ltd.\n",
      "MAIN: Webpage http://www.csc.fi/elmer, Email elmeradm@csc.fi\n",
      "MAIN: Version: 9.0 (Rev: ba15974, Compiled: 2021-06-29)\n",
      "MAIN:  Running one task without MPI parallelization.\n",
      "MAIN:  Running with just one thread per task.\n",
      "MAIN: =============================================================\n",
      "LoadInputFile: Trying to read \"Run Control\" section only\n",
      "MAIN: \n",
      "MAIN: \n",
      "MAIN: -------------------------------------\n",
      "MAIN: Reading Model: /tmplod2miki.sif\n",
      "LoadInputFile: Scanning input file: /tmplod2miki.sif\n",
      "LoadInputFile: Scanning only size info\n",
      "LoadInputFile: First time visiting\n",
      "LoadInputFile: Reading base load of sif file\n",
      "LoadInputFile: Loading input file: /tmplod2miki.sif\n",
      "LoadInputFile: Reading base load of sif file\n",
      "LoadInputFile: Number of BCs: 1\n",
      "LoadInputFile: Number of Body Forces: 1\n",
      "LoadInputFile: Number of Initial Conditions: 0\n",
      "LoadInputFile: Number of Materials: 0\n",
      "LoadInputFile: Number of Equations: 1\n",
      "LoadInputFile: Number of Solvers: 1\n",
      "LoadInputFile: Number of Bodies: 1\n",
      "ElmerAsciiMesh: Base mesh name: ./.\n",
      "LoadMesh: Elapsed REAL time:     0.0001 (s)\n",
      "MAIN: -------------------------------------\n",
      "AddVtuOutputSolverHack: Adding ResultOutputSolver to write VTU output in file: results\n",
      "OptimizeBandwidth: ---------------------------------------------------------\n",
      "OptimizeBandwidth: Computing matrix structure for: poisson...done.\n",
      "OptimizeBandwidth: Half bandwidth without optimization: 7\n",
      "OptimizeBandwidth: \n",
      "OptimizeBandwidth: Bandwidth Optimization ...done.\n",
      "OptimizeBandwidth: Half bandwidth after optimization: 4\n",
      "OptimizeBandwidth: ---------------------------------------------------------\n",
      "ElmerSolver: Number of timesteps to be saved: 1\n",
      "MAIN: \n",
      "MAIN: -------------------------------------\n",
      "MAIN:  Steady state iteration:            1\n",
      "MAIN: -------------------------------------\n",
      "MAIN: \n",
      "ComputeChange: NS (ITER=1) (NRM,RELC): ( 0.72168784E-01  2.0000000     ) :: poisson\n",
      "ComputeChange: SS (ITER=1) (NRM,RELC): ( 0.72168784E-01  2.0000000     ) :: poisson\n",
      "ResultOutputSolver: -------------------------------------\n",
      "ResultOutputSolver: Saving with prefix: results\n",
      "ResultOutputSolver: Creating list for saving - if not present\n",
      "CreateListForSaving: Field Variables for Saving\n",
      "ResultOutputSolver: Saving in unstructured VTK XML (.vtu) format\n",
      "VtuOutputSolver: Saving results in VTK XML format with prefix: results\n",
      "VtuOutputSolver: Saving number of partitions: 1\n",
      "ResultOutputSolver: -------------------------------------\n",
      "ElmerSolver: *** Elmer Solver: ALL DONE ***\n",
      "ElmerSolver: The end\n",
      "SOLVER TOTAL TIME(CPU,REAL):         0.05        0.05\n",
      "ELMER SOLVER FINISHED AT: 2021/08/16 12:00:40\n",
      "\n"
     ]
    }
   ],
   "source": [
    "out = elmer.run(m, \"\"\"\n",
    "Header\n",
    "  Mesh DB \".\" \".\"\n",
    "End\n",
    "\n",
    "Simulation\n",
    "  Max Output Level = 5\n",
    "  Coordinate System = Cartesian\n",
    "  Simulation Type = Steady\n",
    "  Output Intervals(1) = 1\n",
    "  Steady State Max Iterations = 1\n",
    "  Post File = \"results.vtu\"\n",
    "End\n",
    "\n",
    "Body 1\n",
    "  Equation = 1\n",
    "  Body Force = 1\n",
    "End\n",
    "\n",
    "Body Force 1 :: Source = Real 1.0\n",
    "Equation 1 :: Active Solvers(1) = 1\n",
    "\n",
    "Solver 1\n",
    "  Equation = \"Poisson\"\n",
    "  Variable = \"Potential\"\n",
    "  Variable DOFs = 1\n",
    "  Procedure = \"Poisson\" \"PoissonSolver\"\n",
    "  Linear System Solver = \"Direct\"\n",
    "  Linear System Direct Method = UMFPack\n",
    "  Steady State Convergence Tolerance = 1e-09\n",
    "End\n",
    "\n",
    "Boundary Condition 1\n",
    "  {}\n",
    "  Potential = Real 0\n",
    "End\n",
    "\"\"\".format(elmer.target_boundaries(m, 'left', 'right')), verbose=True)"
   ]
  },
  {
   "cell_type": "code",
   "execution_count": 4,
   "metadata": {},
   "outputs": [
    {
     "data": {
      "text/plain": [
       "{'potential': array([[0.   ],\n",
       "        [0.   ],\n",
       "        [0.   ],\n",
       "        [0.   ],\n",
       "        [0.   ],\n",
       "        [0.125],\n",
       "        [0.125],\n",
       "        [0.125],\n",
       "        [0.   ]])}"
      ]
     },
     "execution_count": 4,
     "metadata": {},
     "output_type": "execute_result"
    }
   ],
   "source": [
    "out.point_data"
   ]
  },
  {
   "cell_type": "code",
   "execution_count": 5,
   "metadata": {
    "slideshow": {
     "slide_type": "slide"
    }
   },
   "outputs": [
    {
     "data": {
      "text/plain": [
       "<matplotlib.axes._subplots.AxesSubplot at 0x7fe25e7b4490>"
      ]
     },
     "execution_count": 5,
     "metadata": {},
     "output_type": "execute_result"
    },
    {
     "data": {
      "image/png": "[encoded data removed]",
      "text/plain": [
       "<Figure size 432x288 with 1 Axes>"
      ]
     },
     "metadata": {
      "needs_background": "light"
     },
     "output_type": "display_data"
    }
   ],
   "source": [
    "from skfem.visuals.matplotlib import plot, draw, show\n",
    "\n",
    "ax = draw(m)\n",
    "plot(m, out.point_data['potential'].flatten(), ax=ax, shading='gouraud')"
   ]
  },
  {
   "cell_type": "code",
   "execution_count": null,
   "metadata": {},
   "outputs": [],
   "source": []
  }
 ],
 "metadata": {
  "celltoolbar": "Slideshow",
  "kernelspec": {
   "display_name": "Python 3",
   "language": "python",
   "name": "python3"
  },
  "language_info": {
   "codemirror_mode": {
    "name": "ipython",
    "version": 3
   },
   "file_extension": ".py",
   "mimetype": "text/x-python",
   "name": "python",
   "nbconvert_exporter": "python",
   "pygments_lexer": "ipython3",
   "version": "3.8.3"
  }
 },
 "nbformat": 4,
 "nbformat_minor": 4
}
