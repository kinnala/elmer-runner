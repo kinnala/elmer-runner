{
 "cells": [
  {
   "cell_type": "markdown",
   "metadata": {
    "slideshow": {
     "slide_type": "slide"
    }
   },
   "source": [
    "# run-elmer\n",
    "\n",
    "- Run Elmer FEM (inside a container) from Python\n",
    "- Requires a working Docker and docker-py installations\n",
    "- In future: support using local Elmer FEM installation\n",
    "\n",
    "## Installation\n",
    "\n",
    "```\n",
    "pip install run-elmer\n",
    "```\n",
    "\n",
    "## Usage"
   ]
  },
  {
   "cell_type": "code",
   "execution_count": null,
   "metadata": {
    "slideshow": {
     "slide_type": "slide"
    }
   },
   "outputs": [],
   "source": [
    "import run_elmer as elmer\n",
    "\n",
    "m = elmer.mesh(\n",
    "    [[0, 0],\n",
    "     [0, 1],\n",
    "     [1, 0],\n",
    "     [1, 1]],\n",
    "    [[0, 1, 2],\n",
    "     [1, 2, 3]]\n",
    ").refined(2).with_boundaries({\n",
    "    'left': lambda x: x[0] == 0,\n",
    "    'right': lambda x: x[0] == 1,\n",
    "})\n",
    "\n",
    "m  # use in Elmer?"
   ]
  },
  {
   "cell_type": "code",
   "execution_count": null,
   "metadata": {
    "slideshow": {
     "slide_type": "slide"
    }
   },
   "outputs": [],
   "source": [
    "out = elmer.run(m, \"\"\"\n",
    "Header\n",
    "  Mesh DB \".\" \".\"\n",
    "End\n",
    "\n",
    "Simulation\n",
    "  Coordinate System = Cartesian\n",
    "  Simulation Type = Steady\n",
    "  Post File = \"results.vtu\"\n",
    "End\n",
    "\n",
    "Body 1\n",
    "  Equation = 1\n",
    "  Body Force = 1\n",
    "End\n",
    "\n",
    "Body Force 1 :: Source = Real 1.0\n",
    "Equation 1 :: Active Solvers(1) = 1\n",
    "\n",
    "Solver 1\n",
    "  Equation = \"Poisson\"\n",
    "  Variable = \"Potential\"\n",
    "  Variable DOFs = 1\n",
    "  Procedure = \"Poisson\" \"PoissonSolver\"\n",
    "  Linear System Solver = \"Direct\"\n",
    "  Linear System Direct Method = UMFPack\n",
    "  Steady State Convergence Tolerance = 1e-09\n",
    "End\n",
    "\n",
    "Boundary Condition 1\n",
    "  {}\n",
    "  Potential = Real 0\n",
    "End\n",
    "\"\"\".format(elmer.target_boundaries(m, 'left', 'right')), verbose=False)"
   ]
  },
  {
   "cell_type": "code",
   "execution_count": null,
   "metadata": {},
   "outputs": [],
   "source": [
    "out.point_data"
   ]
  },
  {
   "cell_type": "code",
   "execution_count": null,
   "metadata": {
    "slideshow": {
     "slide_type": "slide"
    }
   },
   "outputs": [],
   "source": [
    "elmer.plot(m, out.point_data['potential'], edges=True)"
   ]
  }
 ],
 "metadata": {
  "celltoolbar": "Slideshow",
  "kernelspec": {
   "display_name": "Python 3",
   "language": "python",
   "name": "python3"
  },
  "language_info": {
   "codemirror_mode": {
    "name": "ipython",
    "version": 3
   },
   "file_extension": ".py",
   "mimetype": "text/x-python",
   "name": "python",
   "nbconvert_exporter": "python",
   "pygments_lexer": "ipython3",
   "version": "3.8.3"
  }
 },
 "nbformat": 4,
 "nbformat_minor": 4
}
